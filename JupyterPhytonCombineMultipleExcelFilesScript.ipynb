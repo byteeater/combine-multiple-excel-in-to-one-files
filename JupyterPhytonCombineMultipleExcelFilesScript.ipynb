{
 "cells": [
  {
   "cell_type": "code",
   "execution_count": null,
   "id": "d8ecc83f",
   "metadata": {},
   "outputs": [],
   "source": [
    "#Uncoment this, to install openpyxl library first\n",
    "#pip install openpyxl\n",
    "\n",
    "import pandas as pd\n",
    "import glob"
   ]
  },
  {
   "cell_type": "code",
   "execution_count": null,
   "id": "603e9b90",
   "metadata": {},
   "outputs": [],
   "source": [
    "# Directory path to your Excel files\n",
    "file_path = 'path/to/excel/files/*.xlsx'  # Adjust this path to your files' location\n",
    "\n",
    "# List to hold DataFrames\n",
    "df_list = []\n",
    "\n",
    "# Loop over each file and load it into the list\n",
    "for file in glob.glob(file_path):\n",
    "    print(f\"Processing file: {file}\")\n",
    "    df = pd.read_excel(file, engine='openpyxl')  # Specify engine to avoid compatibility issues\n",
    "    #df = pd.read_excel(file, usecols=['Column1', 'Column2'], engine='openpyxl') #Load Only Necessary Columns: Use usecols in pd.read_excel() to load only specific columns if not all columns are required.\n",
    "    df_list.append(df)\n",
    "\n",
    "# Combine all DataFrames in the list into a single DataFrame\n",
    "combined_df = pd.concat(df_list, ignore_index=True)\n",
    "\n",
    "# Display the combined DataFrame\n",
    "print(\"Combined DataFrame shape:\", combined_df.shape)\n",
    "\n",
    "# Save to a new Excel file (if desired)\n",
    "output_file = 'combined_output.xlsx'\n",
    "combined_df.to_excel(output_file, index=False, engine='openpyxl')\n",
    "print(f\"Combined file saved as {output_file}\")"
   ]
  }
 ],
 "metadata": {
  "kernelspec": {
   "display_name": "Python 3 (ipykernel)",
   "language": "python",
   "name": "python3"
  },
  "language_info": {
   "codemirror_mode": {
    "name": "ipython",
    "version": 3
   },
   "file_extension": ".py",
   "mimetype": "text/x-python",
   "name": "python",
   "nbconvert_exporter": "python",
   "pygments_lexer": "ipython3",
   "version": "3.10.12"
  }
 },
 "nbformat": 4,
 "nbformat_minor": 5
}
